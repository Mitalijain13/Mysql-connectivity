{
 "cells": [
  {
   "cell_type": "code",
   "execution_count": 2,
   "id": "a804ac4f",
   "metadata": {},
   "outputs": [
    {
     "name": "stdout",
     "output_type": "stream",
     "text": [
      "Note: you may need to restart the kernel to use updated packages.\n"
     ]
    },
    {
     "name": "stderr",
     "output_type": "stream",
     "text": [
      "WARNING: Retrying (Retry(total=4, connect=None, read=None, redirect=None, status=None)) after connection broken by 'NewConnectionError('<pip._vendor.urllib3.connection.HTTPSConnection object at 0x000000A0AE2DC110>: Failed to establish a new connection: [Errno 11001] getaddrinfo failed')': /simple/mysql-connector/\n",
      "WARNING: Retrying (Retry(total=3, connect=None, read=None, redirect=None, status=None)) after connection broken by 'NewConnectionError('<pip._vendor.urllib3.connection.HTTPSConnection object at 0x000000A0AE2B2790>: Failed to establish a new connection: [Errno 11001] getaddrinfo failed')': /simple/mysql-connector/\n",
      "WARNING: Retrying (Retry(total=2, connect=None, read=None, redirect=None, status=None)) after connection broken by 'NewConnectionError('<pip._vendor.urllib3.connection.HTTPSConnection object at 0x000000A0AE2CAE90>: Failed to establish a new connection: [Errno 11001] getaddrinfo failed')': /simple/mysql-connector/\n",
      "WARNING: Retrying (Retry(total=1, connect=None, read=None, redirect=None, status=None)) after connection broken by 'NewConnectionError('<pip._vendor.urllib3.connection.HTTPSConnection object at 0x000000A0AE2E0050>: Failed to establish a new connection: [Errno 11001] getaddrinfo failed')': /simple/mysql-connector/\n",
      "WARNING: Retrying (Retry(total=0, connect=None, read=None, redirect=None, status=None)) after connection broken by 'NewConnectionError('<pip._vendor.urllib3.connection.HTTPSConnection object at 0x000000A0AE2E0790>: Failed to establish a new connection: [Errno 11001] getaddrinfo failed')': /simple/mysql-connector/\n",
      "ERROR: Could not find a version that satisfies the requirement mysql.connector (from versions: none)\n",
      "ERROR: No matching distribution found for mysql.connector\n"
     ]
    }
   ],
   "source": [
    "pip install mysql.connector"
   ]
  },
  {
   "cell_type": "code",
   "execution_count": 3,
   "id": "b0fbdc5b",
   "metadata": {},
   "outputs": [],
   "source": [
    "import pandas as pd\n",
    "import mysql.connector"
   ]
  },
  {
   "cell_type": "code",
   "execution_count": 2,
   "id": "e6215b5c",
   "metadata": {},
   "outputs": [
    {
     "name": "stdout",
     "output_type": "stream",
     "text": [
      "Collecting mysql-connector-python\n",
      "  Obtaining dependency information for mysql-connector-python from https://files.pythonhosted.org/packages/d3/b8/6798a0f91e595c0704a94c1e32a00ca930f77cb8f0f96c7e4dad4f9db1fe/mysql_connector_python-8.1.0-cp311-cp311-win_amd64.whl.metadata\n",
      "  Downloading mysql_connector_python-8.1.0-cp311-cp311-win_amd64.whl.metadata (2.1 kB)\n",
      "Collecting protobuf<=4.21.12,>=4.21.1 (from mysql-connector-python)\n",
      "  Downloading protobuf-4.21.12-cp310-abi3-win_amd64.whl (527 kB)\n",
      "     ---------------------------------------- 0.0/527.0 kB ? eta -:--:--\n",
      "     -- ------------------------------------- 30.7/527.0 kB ? eta -:--:--\n",
      "     ------ -------------------------------- 92.2/527.0 kB 1.3 MB/s eta 0:00:01\n",
      "     ------------ ------------------------- 174.1/527.0 kB 1.3 MB/s eta 0:00:01\n",
      "     ---------------------- --------------- 307.2/527.0 kB 1.7 MB/s eta 0:00:01\n",
      "     -------------------------------------- 527.0/527.0 kB 2.2 MB/s eta 0:00:00\n",
      "Downloading mysql_connector_python-8.1.0-cp311-cp311-win_amd64.whl (10.8 MB)\n",
      "   ---------------------------------------- 0.0/10.8 MB ? eta -:--:--\n",
      "   -- ------------------------------------- 0.6/10.8 MB 17.8 MB/s eta 0:00:01\n",
      "   --- ------------------------------------ 1.0/10.8 MB 13.3 MB/s eta 0:00:01\n",
      "   --- ------------------------------------ 1.0/10.8 MB 13.3 MB/s eta 0:00:01\n",
      "   --- ------------------------------------ 1.0/10.8 MB 13.3 MB/s eta 0:00:01\n",
      "   --- ------------------------------------ 1.0/10.8 MB 13.3 MB/s eta 0:00:01\n",
      "   ---- ----------------------------------- 1.3/10.8 MB 5.0 MB/s eta 0:00:02\n",
      "   ------ --------------------------------- 1.8/10.8 MB 5.8 MB/s eta 0:00:02\n",
      "   -------- ------------------------------- 2.3/10.8 MB 6.7 MB/s eta 0:00:02\n",
      "   --------- ------------------------------ 2.6/10.8 MB 6.9 MB/s eta 0:00:02\n",
      "   --------- ------------------------------ 2.6/10.8 MB 6.9 MB/s eta 0:00:02\n",
      "   --------- ------------------------------ 2.6/10.8 MB 6.9 MB/s eta 0:00:02\n",
      "   ----------- ---------------------------- 3.1/10.8 MB 6.1 MB/s eta 0:00:02\n",
      "   -------------- ------------------------- 4.0/10.8 MB 7.6 MB/s eta 0:00:01\n",
      "   -------------- ------------------------- 4.0/10.8 MB 7.6 MB/s eta 0:00:01\n",
      "   -------------- ------------------------- 4.0/10.8 MB 7.6 MB/s eta 0:00:01\n",
      "   -------------- ------------------------- 4.0/10.8 MB 7.6 MB/s eta 0:00:01\n",
      "   ---------------- ----------------------- 4.3/10.8 MB 6.2 MB/s eta 0:00:02\n",
      "   ----------------- ---------------------- 4.7/10.8 MB 6.2 MB/s eta 0:00:01\n",
      "   ------------------ --------------------- 5.0/10.8 MB 6.4 MB/s eta 0:00:01\n",
      "   -------------------- ------------------- 5.5/10.8 MB 6.6 MB/s eta 0:00:01\n",
      "   --------------------- ------------------ 5.9/10.8 MB 6.9 MB/s eta 0:00:01\n",
      "   ----------------------- ---------------- 6.3/10.8 MB 7.1 MB/s eta 0:00:01\n",
      "   ------------------------- -------------- 6.9/10.8 MB 7.3 MB/s eta 0:00:01\n",
      "   -------------------------- ------------- 7.3/10.8 MB 7.5 MB/s eta 0:00:01\n",
      "   ---------------------------- ----------- 7.8/10.8 MB 7.7 MB/s eta 0:00:01\n",
      "   ------------------------------ --------- 8.2/10.8 MB 7.7 MB/s eta 0:00:01\n",
      "   -------------------------------- ------- 8.7/10.8 MB 8.0 MB/s eta 0:00:01\n",
      "   --------------------------------- ------ 9.1/10.8 MB 8.1 MB/s eta 0:00:01\n",
      "   ----------------------------------- ---- 9.6/10.8 MB 8.2 MB/s eta 0:00:01\n",
      "   ------------------------------------- -- 10.1/10.8 MB 8.3 MB/s eta 0:00:01\n",
      "   -------------------------------------- - 10.5/10.8 MB 8.2 MB/s eta 0:00:01\n",
      "   ---------------------------------------  10.8/10.8 MB 8.3 MB/s eta 0:00:01\n",
      "   ---------------------------------------  10.8/10.8 MB 8.3 MB/s eta 0:00:01\n",
      "   ---------------------------------------- 10.8/10.8 MB 7.8 MB/s eta 0:00:00\n",
      "Installing collected packages: protobuf, mysql-connector-python\n",
      "Successfully installed mysql-connector-python-8.1.0 protobuf-4.21.12\n",
      "Note: you may need to restart the kernel to use updated packages.\n"
     ]
    }
   ],
   "source": [
    "pip install mysql-connector-python"
   ]
  },
  {
   "cell_type": "code",
   "execution_count": 7,
   "id": "bec480d6",
   "metadata": {},
   "outputs": [
    {
     "name": "stdout",
     "output_type": "stream",
     "text": [
      "Collecting pymysql\n",
      "  Obtaining dependency information for pymysql from https://files.pythonhosted.org/packages/e5/30/20467e39523d0cfc2b6227902d3687a16364307260c75e6a1cb4422b0c62/PyMySQL-1.1.0-py3-none-any.whl.metadata\n",
      "  Downloading PyMySQL-1.1.0-py3-none-any.whl.metadata (4.4 kB)\n",
      "Downloading PyMySQL-1.1.0-py3-none-any.whl (44 kB)\n",
      "   ---------------------------------------- 0.0/44.8 kB ? eta -:--:--\n",
      "   --------------------------- ------------ 30.7/44.8 kB 1.3 MB/s eta 0:00:01\n",
      "   ---------------------------------------- 44.8/44.8 kB 734.6 kB/s eta 0:00:00\n",
      "Installing collected packages: pymysql\n",
      "Successfully installed pymysql-1.1.0\n",
      "Note: you may need to restart the kernel to use updated packages.\n"
     ]
    }
   ],
   "source": [
    "pip install pymysql"
   ]
  },
  {
   "cell_type": "code",
   "execution_count": 9,
   "id": "a1303529",
   "metadata": {},
   "outputs": [
    {
     "name": "stdout",
     "output_type": "stream",
     "text": [
      "enter the database name:comapanies\n",
      "Enter the table nameemployee\n",
      "   Emp_no   Ename       Job     Mgr   Hiredate  Salary    Comm  Deptno\n",
      "0    7369   Smith     Clerk  7902.0 1980-12-17     800     NaN      20\n",
      "1    7499   Allen  Salesman  7898.0 1981-02-20    1600   300.0      30\n",
      "2    7521    Ward  Salesman  7698.0 1981-02-22    1250   500.0      30\n",
      "3    7566   Jones   Manager  7839.0 1981-04-02    2975     NaN      20\n",
      "4    7654  Martin  Salesman  7698.0 1981-09-28    1250  1400.0      30\n"
     ]
    }
   ],
   "source": [
    "from sqlalchemy import create_engine\n",
    "import pandas as pd\n",
    "engine=create_engine(\"mysql+pymysql://{user}:{pw}@{host}/{db}\"\n",
    ".format(host=\"Localhost\",db=input(\"enter the database name:\"),user=\"root\",pw=\"redhat\"))\n",
    "tablename=input(\"Enter the table name\")\n",
    "df=pd.read_sql(tablename,engine)\n",
    "df=df.head()\n",
    "print(df)"
   ]
  },
  {
   "cell_type": "code",
   "execution_count": null,
   "id": "fbac5bee",
   "metadata": {},
   "outputs": [],
   "source": []
  }
 ],
 "metadata": {
  "kernelspec": {
   "display_name": "Python 3 (ipykernel)",
   "language": "python",
   "name": "python3"
  },
  "language_info": {
   "codemirror_mode": {
    "name": "ipython",
    "version": 3
   },
   "file_extension": ".py",
   "mimetype": "text/x-python",
   "name": "python",
   "nbconvert_exporter": "python",
   "pygments_lexer": "ipython3",
   "version": "3.11.4"
  }
 },
 "nbformat": 4,
 "nbformat_minor": 5
}
